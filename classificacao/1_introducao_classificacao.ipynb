{
 "cells": [
  {
   "cell_type": "markdown",
   "metadata": {
    "id": "l8X07HzkJ0Hq"
   },
   "source": [
    "# **Algoritmos de Inteligência Artificial aplicados à classificação**\n",
    "\n"
   ]
  },
  {
   "cell_type": "markdown",
   "metadata": {},
   "source": [
    "# 1. O que é Machine Learning (ou Aprendizado de Máquina?)\n",
    "\n",
    "É a área da ciência da computação dedicada aos algoritmos que permitem computadores *aprenderem dos dados*, Ou de maneira mais técnica: *um computador é dito que aprende de uma experiência E a realizar uma tarefa T medida por uma performance P, se a performance em T, medida por P, melhora com experiências do tipo E*\n",
    "\n",
    "## 1.1. Por que usar Machine Learning?\n",
    "\n",
    "Dependendo da situação, construir uma lista de regras explícitas podem ser complicadas para um sistema computacional, o que também é bem difícil de manter. Se ao contrário, focarmos nos *padrões* que determinam uma certa situação, podemos construir algoritmos focados no reconhecimento desses padrões e aí sim, esses sistemas tornam-se \"mais simples\".\n",
    "\n",
    "Isso também vale para as questões de atualização dos padrões. Atualizar a lista de regras pode ser extremamente custoso, além de ser fisicamente inviável na maioria das situações práticas que encontramos na vida real. Mas realizar um *re-treinamento* dos modelos de Machine Learning pode ser mais \"fácil\" e gerar resultados mais confiáveis.\n",
    "\n",
    "Outro motivo: o problema em si é extremamente complexo para abordagens tradicionais ou nem podem possuir abordagens conhecidas. Ou uma terceira situação: a abordagem conhecida pode ser impossibilitada pelo desconhecido dos parâmetros necessários (custo ou tecnologias protegidas por exemplo).\n",
    "\n",
    "Algorimos de ML podem ser inspecionados para que nós possamos entender como eles tomaram as decisões, inclusive gerando correlações impensadas anteriormente, o que pode levar a um melhor entendimento do problema ou descobertas de padrões que não eram imediatamente claros.\n",
    "\n",
    "## 1.2. Tipos de Sistemas de Machine Learning\n",
    "\n",
    "Existem muitas formas de se agrupar os diferentes algoritmos e abordagens de Machine Learning:\n",
    "\n",
    "- por tipo de supervisão do treinamento  - supervisionados; não supervisionados; semi-supervisionados e aprendizado por reforço\n",
    "    - Classificação x Regressão (supervisionado)\n",
    "    - Clusterização; Detecção de anomalias; Técnicas de redução de dimensionalidade por projeção; Regras de associação\n",
    "    - *Deep Belief Networks* -> mistura de supervisionado com não supervisionado\n",
    "    - Um agente pode observar o ambiente, selecionar e desenvolver ações, recebendo ações ou penalidades. Eles devem aprender por si mesmo as melhores estratégias para maximizar a recompensa -> aprendizado por reforço\n",
    "- por tipo de frequência de aprendizado - online ou lotes\n",
    "    - online -> sistema capaz de aprender incrementalmente, dados contínuos, sendo necessário a adaptação rápida e autônoma; dependente do *learning rate*\n",
    "    - offline ou lotes -> offline learning\n",
    "- por forma de funcionamento - simples comparação com dados históricos ou pela detecção e cálculo de um modelo matemático\n",
    "    - comparação - baseados em similaridade\n",
    "    - modelo matemático - existe uma equação ou lógica por trás da tomada de decisão\n",
    "        - função de ajuste ou função de custo\n",
    "\n",
    "## 1.3. Principais Desafios para Machine Learning\n",
    "\n",
    "- Quantidade insuficiente de dados -> principalmente para problemas complexos como NLP e visão computacional\n",
    "    - obter dados é caro\n",
    "- Dados não representativos -> dados com ruídos ou enviesados são comuns\n",
    "- Dados de baixa qualidade -> dados com erros, dados com ruído, outliers, medições de baixa qualidade\n",
    "    - Investimento de tempo em limpeza e padronização de dados\n",
    "- Atributos irrelevantes -> se os atributos não possuírem informação relevante, não podemos construir modelos bons\n",
    "    - Seleção de atributos; extração de atributos; engenharia de atributos\n",
    "- Sobreajuste dos dados -> supergeneralização\n",
    "    - Comuns em modelos muito complexos\n",
    "- Subajuste -> baixa generalização ou \"falta de aprendizado\"\n",
    "    - Quando o modelo é simples demais para os dados\n"
   ]
  },
  {
   "cell_type": "markdown",
   "metadata": {
    "id": "4XLGnFIh-W4W"
   },
   "source": [
    "## **1. Introdução ao Problema de Classificação**\n",
    "\n",
    "A classificação é um dos pilares fundamentais da Ciência de Dados, desempenhando um papel crucial na tomada de decisões, resolução de problemas e automação de tarefas em uma variedade de campos, como medicina, finanças, marketing, visão computacional e muito mais. Na essência, a classificação é o processo de categorizar dados em grupos ou classes com base em características ou atributos específicos.\n",
    "\n",
    "Imagine, por exemplo, que você seja um gerente de um e-commerce e deseja prever se um cliente específico fará ou não uma compra com base no histórico de compras e comportamento de navegação. Como a nossa mente procede?\n",
    "\n",
    "Perceba que, para tomar a decisão a respeito de uma potencial compra, precisamos primeiramente saber qual o tipo de pessoa já comprou no passado? Ou seja, precisamos, primariamente, da informação de que houve a compra ou não. Em segundo lugar, precisamos das características dos compradores e dos não compradores também.\n",
    "\n",
    "A classificação é uma técnica supervisionada, o que significa que ela exige dados de treinamento rotulados para aprender e construir um modelo que possa prever as classes ou categorias corretas para novos dados não rotulados.\n",
    "\n",
    "*Em síntese, a classificação é a abordagem da criação de uma função $f$ a partir de um conjunto de treinamento $(X, Y)$, de forma que para cada novo vetor de entradas $\\vec{X}$, seja atribuída um rótulo mutuamente exclusivo e discreto $Y$.*\n",
    "\n",
    "- para o problema de compra / não compra, o $X$ seriam as características do potencial comprador, e o $Y$ seria uma informação binária comprou (1) / não comprou (0).\n",
    "- podemos ter um problema de cunho industrial, onde o $Y$ seriam categorias de falhas (0 - sem falha, 1 - falha leve, 2 - falha crítica) e os $X$ seriam padrões de vibração medidos por instrumentos.\n",
    "- e na classificação de imagens?"
   ]
  },
  {
   "cell_type": "markdown",
   "metadata": {
    "id": "LWraga-ZOqFr"
   },
   "source": [
    "## **2. Separabilidade Linear**\n",
    "\n",
    "A separabilidade linear é um conceito fundamental no aprendizado de máquina e envolve a capacidade de dividir dados em duas ou mais classes com uma linha reta ou um hiperplano. Pense nisso como traçar uma linha invisível em um gráfico para separar grupos de pontos. Isso é semelhante à regressão linear, onde tentamos encontrar uma linha reta que melhor se ajuste aos dados. A diferença principal é que, na regressão linear, estamos tentando prever um valor contínuo, como o preço de uma casa com base em características como tamanho e número de quartos, enquanto na separabilidade linear, estamos tentando classificar dados em categorias discretas, como \"sim\" ou \"não\".\n"
   ]
  },
  {
   "cell_type": "code",
   "execution_count": 12,
   "metadata": {
    "executionInfo": {
     "elapsed": 258,
     "status": "ok",
     "timestamp": 1697540082085,
     "user": {
      "displayName": "Ícaro Augusto Maccari Zelioli",
      "userId": "02607314494482909449"
     },
     "user_tz": 180
    },
    "id": "m5GCbzDGRDlP"
   },
   "outputs": [],
   "source": [
    "import seaborn as sns\n",
    "import matplotlib.pyplot as plt"
   ]
  },
  {
   "cell_type": "code",
   "execution_count": 13,
   "metadata": {
    "colab": {
     "base_uri": "https://localhost:8080/",
     "height": 206
    },
    "executionInfo": {
     "elapsed": 284,
     "status": "ok",
     "timestamp": 1697540149027,
     "user": {
      "displayName": "Ícaro Augusto Maccari Zelioli",
      "userId": "02607314494482909449"
     },
     "user_tz": 180
    },
    "id": "Ux0L7qh3Rfeg",
    "outputId": "aa0c6eaf-a923-4f25-bfdf-34ef7353f330"
   },
   "outputs": [
    {
     "data": {
      "text/html": [
       "\n",
       "  <div id=\"df-2e6fc743-ffa8-4fbb-9e98-a1aa35e91d84\" class=\"colab-df-container\">\n",
       "    <div>\n",
       "<style scoped>\n",
       "    .dataframe tbody tr th:only-of-type {\n",
       "        vertical-align: middle;\n",
       "    }\n",
       "\n",
       "    .dataframe tbody tr th {\n",
       "        vertical-align: top;\n",
       "    }\n",
       "\n",
       "    .dataframe thead th {\n",
       "        text-align: right;\n",
       "    }\n",
       "</style>\n",
       "<table border=\"1\" class=\"dataframe\">\n",
       "  <thead>\n",
       "    <tr style=\"text-align: right;\">\n",
       "      <th></th>\n",
       "      <th>sepal_length</th>\n",
       "      <th>sepal_width</th>\n",
       "      <th>petal_length</th>\n",
       "      <th>petal_width</th>\n",
       "      <th>species</th>\n",
       "    </tr>\n",
       "  </thead>\n",
       "  <tbody>\n",
       "    <tr>\n",
       "      <th>0</th>\n",
       "      <td>5.1</td>\n",
       "      <td>3.5</td>\n",
       "      <td>1.4</td>\n",
       "      <td>0.2</td>\n",
       "      <td>setosa</td>\n",
       "    </tr>\n",
       "    <tr>\n",
       "      <th>1</th>\n",
       "      <td>4.9</td>\n",
       "      <td>3.0</td>\n",
       "      <td>1.4</td>\n",
       "      <td>0.2</td>\n",
       "      <td>setosa</td>\n",
       "    </tr>\n",
       "    <tr>\n",
       "      <th>2</th>\n",
       "      <td>4.7</td>\n",
       "      <td>3.2</td>\n",
       "      <td>1.3</td>\n",
       "      <td>0.2</td>\n",
       "      <td>setosa</td>\n",
       "    </tr>\n",
       "    <tr>\n",
       "      <th>3</th>\n",
       "      <td>4.6</td>\n",
       "      <td>3.1</td>\n",
       "      <td>1.5</td>\n",
       "      <td>0.2</td>\n",
       "      <td>setosa</td>\n",
       "    </tr>\n",
       "    <tr>\n",
       "      <th>4</th>\n",
       "      <td>5.0</td>\n",
       "      <td>3.6</td>\n",
       "      <td>1.4</td>\n",
       "      <td>0.2</td>\n",
       "      <td>setosa</td>\n",
       "    </tr>\n",
       "  </tbody>\n",
       "</table>\n",
       "</div>\n",
       "    <div class=\"colab-df-buttons\">\n",
       "\n",
       "  <div class=\"colab-df-container\">\n",
       "    <button class=\"colab-df-convert\" onclick=\"convertToInteractive('df-2e6fc743-ffa8-4fbb-9e98-a1aa35e91d84')\"\n",
       "            title=\"Convert this dataframe to an interactive table.\"\n",
       "            style=\"display:none;\">\n",
       "\n",
       "  <svg xmlns=\"http://www.w3.org/2000/svg\" height=\"24px\" viewBox=\"0 -960 960 960\">\n",
       "    <path d=\"M120-120v-720h720v720H120Zm60-500h600v-160H180v160Zm220 220h160v-160H400v160Zm0 220h160v-160H400v160ZM180-400h160v-160H180v160Zm440 0h160v-160H620v160ZM180-180h160v-160H180v160Zm440 0h160v-160H620v160Z\"/>\n",
       "  </svg>\n",
       "    </button>\n",
       "\n",
       "  <style>\n",
       "    .colab-df-container {\n",
       "      display:flex;\n",
       "      gap: 12px;\n",
       "    }\n",
       "\n",
       "    .colab-df-convert {\n",
       "      background-color: #E8F0FE;\n",
       "      border: none;\n",
       "      border-radius: 50%;\n",
       "      cursor: pointer;\n",
       "      display: none;\n",
       "      fill: #1967D2;\n",
       "      height: 32px;\n",
       "      padding: 0 0 0 0;\n",
       "      width: 32px;\n",
       "    }\n",
       "\n",
       "    .colab-df-convert:hover {\n",
       "      background-color: #E2EBFA;\n",
       "      box-shadow: 0px 1px 2px rgba(60, 64, 67, 0.3), 0px 1px 3px 1px rgba(60, 64, 67, 0.15);\n",
       "      fill: #174EA6;\n",
       "    }\n",
       "\n",
       "    .colab-df-buttons div {\n",
       "      margin-bottom: 4px;\n",
       "    }\n",
       "\n",
       "    [theme=dark] .colab-df-convert {\n",
       "      background-color: #3B4455;\n",
       "      fill: #D2E3FC;\n",
       "    }\n",
       "\n",
       "    [theme=dark] .colab-df-convert:hover {\n",
       "      background-color: #434B5C;\n",
       "      box-shadow: 0px 1px 3px 1px rgba(0, 0, 0, 0.15);\n",
       "      filter: drop-shadow(0px 1px 2px rgba(0, 0, 0, 0.3));\n",
       "      fill: #FFFFFF;\n",
       "    }\n",
       "  </style>\n",
       "\n",
       "    <script>\n",
       "      const buttonEl =\n",
       "        document.querySelector('#df-2e6fc743-ffa8-4fbb-9e98-a1aa35e91d84 button.colab-df-convert');\n",
       "      buttonEl.style.display =\n",
       "        google.colab.kernel.accessAllowed ? 'block' : 'none';\n",
       "\n",
       "      async function convertToInteractive(key) {\n",
       "        const element = document.querySelector('#df-2e6fc743-ffa8-4fbb-9e98-a1aa35e91d84');\n",
       "        const dataTable =\n",
       "          await google.colab.kernel.invokeFunction('convertToInteractive',\n",
       "                                                    [key], {});\n",
       "        if (!dataTable) return;\n",
       "\n",
       "        const docLinkHtml = 'Like what you see? Visit the ' +\n",
       "          '<a target=\"_blank\" href=https://colab.research.google.com/notebooks/data_table.ipynb>data table notebook</a>'\n",
       "          + ' to learn more about interactive tables.';\n",
       "        element.innerHTML = '';\n",
       "        dataTable['output_type'] = 'display_data';\n",
       "        await google.colab.output.renderOutput(dataTable, element);\n",
       "        const docLink = document.createElement('div');\n",
       "        docLink.innerHTML = docLinkHtml;\n",
       "        element.appendChild(docLink);\n",
       "      }\n",
       "    </script>\n",
       "  </div>\n",
       "\n",
       "\n",
       "<div id=\"df-a1630dc1-4ae4-4dab-8d35-cd876a70f6df\">\n",
       "  <button class=\"colab-df-quickchart\" onclick=\"quickchart('df-a1630dc1-4ae4-4dab-8d35-cd876a70f6df')\"\n",
       "            title=\"Suggest charts.\"\n",
       "            style=\"display:none;\">\n",
       "\n",
       "<svg xmlns=\"http://www.w3.org/2000/svg\" height=\"24px\"viewBox=\"0 0 24 24\"\n",
       "     width=\"24px\">\n",
       "    <g>\n",
       "        <path d=\"M19 3H5c-1.1 0-2 .9-2 2v14c0 1.1.9 2 2 2h14c1.1 0 2-.9 2-2V5c0-1.1-.9-2-2-2zM9 17H7v-7h2v7zm4 0h-2V7h2v10zm4 0h-2v-4h2v4z\"/>\n",
       "    </g>\n",
       "</svg>\n",
       "  </button>\n",
       "\n",
       "<style>\n",
       "  .colab-df-quickchart {\n",
       "      --bg-color: #E8F0FE;\n",
       "      --fill-color: #1967D2;\n",
       "      --hover-bg-color: #E2EBFA;\n",
       "      --hover-fill-color: #174EA6;\n",
       "      --disabled-fill-color: #AAA;\n",
       "      --disabled-bg-color: #DDD;\n",
       "  }\n",
       "\n",
       "  [theme=dark] .colab-df-quickchart {\n",
       "      --bg-color: #3B4455;\n",
       "      --fill-color: #D2E3FC;\n",
       "      --hover-bg-color: #434B5C;\n",
       "      --hover-fill-color: #FFFFFF;\n",
       "      --disabled-bg-color: #3B4455;\n",
       "      --disabled-fill-color: #666;\n",
       "  }\n",
       "\n",
       "  .colab-df-quickchart {\n",
       "    background-color: var(--bg-color);\n",
       "    border: none;\n",
       "    border-radius: 50%;\n",
       "    cursor: pointer;\n",
       "    display: none;\n",
       "    fill: var(--fill-color);\n",
       "    height: 32px;\n",
       "    padding: 0;\n",
       "    width: 32px;\n",
       "  }\n",
       "\n",
       "  .colab-df-quickchart:hover {\n",
       "    background-color: var(--hover-bg-color);\n",
       "    box-shadow: 0 1px 2px rgba(60, 64, 67, 0.3), 0 1px 3px 1px rgba(60, 64, 67, 0.15);\n",
       "    fill: var(--button-hover-fill-color);\n",
       "  }\n",
       "\n",
       "  .colab-df-quickchart-complete:disabled,\n",
       "  .colab-df-quickchart-complete:disabled:hover {\n",
       "    background-color: var(--disabled-bg-color);\n",
       "    fill: var(--disabled-fill-color);\n",
       "    box-shadow: none;\n",
       "  }\n",
       "\n",
       "  .colab-df-spinner {\n",
       "    border: 2px solid var(--fill-color);\n",
       "    border-color: transparent;\n",
       "    border-bottom-color: var(--fill-color);\n",
       "    animation:\n",
       "      spin 1s steps(1) infinite;\n",
       "  }\n",
       "\n",
       "  @keyframes spin {\n",
       "    0% {\n",
       "      border-color: transparent;\n",
       "      border-bottom-color: var(--fill-color);\n",
       "      border-left-color: var(--fill-color);\n",
       "    }\n",
       "    20% {\n",
       "      border-color: transparent;\n",
       "      border-left-color: var(--fill-color);\n",
       "      border-top-color: var(--fill-color);\n",
       "    }\n",
       "    30% {\n",
       "      border-color: transparent;\n",
       "      border-left-color: var(--fill-color);\n",
       "      border-top-color: var(--fill-color);\n",
       "      border-right-color: var(--fill-color);\n",
       "    }\n",
       "    40% {\n",
       "      border-color: transparent;\n",
       "      border-right-color: var(--fill-color);\n",
       "      border-top-color: var(--fill-color);\n",
       "    }\n",
       "    60% {\n",
       "      border-color: transparent;\n",
       "      border-right-color: var(--fill-color);\n",
       "    }\n",
       "    80% {\n",
       "      border-color: transparent;\n",
       "      border-right-color: var(--fill-color);\n",
       "      border-bottom-color: var(--fill-color);\n",
       "    }\n",
       "    90% {\n",
       "      border-color: transparent;\n",
       "      border-bottom-color: var(--fill-color);\n",
       "    }\n",
       "  }\n",
       "</style>\n",
       "\n",
       "  <script>\n",
       "    async function quickchart(key) {\n",
       "      const quickchartButtonEl =\n",
       "        document.querySelector('#' + key + ' button');\n",
       "      quickchartButtonEl.disabled = true;  // To prevent multiple clicks.\n",
       "      quickchartButtonEl.classList.add('colab-df-spinner');\n",
       "      try {\n",
       "        const charts = await google.colab.kernel.invokeFunction(\n",
       "            'suggestCharts', [key], {});\n",
       "      } catch (error) {\n",
       "        console.error('Error during call to suggestCharts:', error);\n",
       "      }\n",
       "      quickchartButtonEl.classList.remove('colab-df-spinner');\n",
       "      quickchartButtonEl.classList.add('colab-df-quickchart-complete');\n",
       "    }\n",
       "    (() => {\n",
       "      let quickchartButtonEl =\n",
       "        document.querySelector('#df-a1630dc1-4ae4-4dab-8d35-cd876a70f6df button');\n",
       "      quickchartButtonEl.style.display =\n",
       "        google.colab.kernel.accessAllowed ? 'block' : 'none';\n",
       "    })();\n",
       "  </script>\n",
       "</div>\n",
       "    </div>\n",
       "  </div>\n"
      ],
      "text/plain": [
       "   sepal_length  sepal_width  petal_length  petal_width species\n",
       "0           5.1          3.5           1.4          0.2  setosa\n",
       "1           4.9          3.0           1.4          0.2  setosa\n",
       "2           4.7          3.2           1.3          0.2  setosa\n",
       "3           4.6          3.1           1.5          0.2  setosa\n",
       "4           5.0          3.6           1.4          0.2  setosa"
      ]
     },
     "execution_count": 13,
     "metadata": {},
     "output_type": "execute_result"
    }
   ],
   "source": [
    "# importando o dataset iris\n",
    "iris = sns.load_dataset('iris')\n",
    "iris.head()"
   ]
  },
  {
   "cell_type": "code",
   "execution_count": 14,
   "metadata": {
    "colab": {
     "base_uri": "https://localhost:8080/"
    },
    "executionInfo": {
     "elapsed": 355,
     "status": "ok",
     "timestamp": 1697540237577,
     "user": {
      "displayName": "Ícaro Augusto Maccari Zelioli",
      "userId": "02607314494482909449"
     },
     "user_tz": 180
    },
    "id": "qfheU0dQSBH_",
    "outputId": "2319946b-a240-4b63-8140-014486749cd5"
   },
   "outputs": [
    {
     "data": {
      "text/plain": [
       "setosa        50\n",
       "versicolor    50\n",
       "virginica     50\n",
       "Name: species, dtype: int64"
      ]
     },
     "execution_count": 14,
     "metadata": {},
     "output_type": "execute_result"
    }
   ],
   "source": [
    "# avaliando as espécies\n",
    "iris['species'].value_counts()"
   ]
  },
  {
   "cell_type": "code",
   "execution_count": 22,
   "metadata": {
    "colab": {
     "base_uri": "https://localhost:8080/",
     "height": 452
    },
    "executionInfo": {
     "elapsed": 984,
     "status": "ok",
     "timestamp": 1697540974541,
     "user": {
      "displayName": "Ícaro Augusto Maccari Zelioli",
      "userId": "02607314494482909449"
     },
     "user_tz": 180
    },
    "id": "8SkaNaAYS4G_",
    "outputId": "4a9dc1e3-baa9-421c-fa00-c4a0c2e3705b"
   },
   "outputs": [
    {
     "data": {
      "image/png": "[encoded data removed]",
      "text/plain": [
       "<Figure size 640x480 with 1 Axes>"
      ]
     },
     "metadata": {},
     "output_type": "display_data"
    }
   ],
   "source": [
    "colormap = {\n",
    "    'setosa': 'red',\n",
    "    'versicolor': 'blue',\n",
    "    'virginica': 'green'\n",
    "}\n",
    "\n",
    "i, j = 0, 1\n",
    "\n",
    "plt.scatter(x=iris.iloc[:, i], y=iris.iloc[:, j], c=iris.species.map(colormap))\n",
    "plt.xlabel(iris.columns[i])\n",
    "plt.ylabel(iris.columns[j])\n",
    "plt.show()"
   ]
  },
  {
   "cell_type": "markdown",
   "metadata": {
    "id": "zYEbN20YRi38"
   },
   "source": [
    "A separabilidade linear de um conjunto de dados é um item bem importante a ser verificado, pois pode ajudar a determinar qual será o modelo a ser utilizado para construir a solução. E por que isso é importante?"
   ]
  },
  {
   "cell_type": "markdown",
   "metadata": {
    "id": "kg19EgQq-PTA"
   },
   "source": [
    "## **3. Principais Métricas de Classificação**\n",
    "\n",
    "Assim como um modelo de regressão, como a regressão linear, os modelos de classificação também podem ser analisados e avaliados por meio de métricas de desempenho.\n",
    "\n",
    "- qual seria a melhor métrica de avaliação de desempenho?\n",
    "\n"
   ]
  },
  {
   "cell_type": "markdown",
   "metadata": {
    "id": "GqzB0LZ0_Rub"
   },
   "source": [
    "### *3.1. Conceito de Viés e Variância - para classificação*\n",
    "\n",
    "- **Viés (Bias) na Classificação**:\n",
    "   - Em um modelo de classificação com alto viés, como uma regressão logística simples, supomos que a relação entre as características de entrada e os rótulos de classe é muito simples. Isso pode resultar em um modelo que não consegue capturar a complexidade dos dados. Por exemplo, se estamos tentando classificar imagens de gatos e cachorros com base apenas na altura, um modelo com alto viés pode assumir erroneamente que a altura é a única característica importante, ignorando outras informações relevantes, como a forma e a cor dos animais.\n",
    "\n",
    "   - Como resultado, o modelo terá um desempenho fraco, classificando incorretamente muitos exemplos. O erro de viés pode ser observado quando o modelo não consegue se ajustar bem aos dados de treinamento e comete erros sistemáticos, como classificar a maioria dos gatos como cães.\n",
    "\n",
    "- **Variância (Variance) na Classificação**:\n",
    "   - Em um modelo de classificação com alta variância, como uma árvore de decisão profunda, o modelo pode se ajustar demais aos dados de treinamento. Isso significa que o modelo leva em consideração até mesmo o ruído nos dados, criando uma fronteira de decisão excessivamente complexa e específica para o conjunto de treinamento.\n",
    "\n",
    "   - O erro de variância pode ser observado quando o modelo tem um desempenho excelente nos dados de treinamento, mas um desempenho ruim em novos dados. Por exemplo, uma árvore de decisão profunda pode criar regras extremamente complexas para classificar imagens de gatos e cachorros, levando a resultados inconsistentes e incorretos em novos exemplos que não se encaixam precisamente nas regras do modelo."
   ]
  },
  {
   "cell_type": "markdown",
   "metadata": {
    "id": "CslFUfOf_WYe"
   },
   "source": [
    "### *3.2. - Métricas de Viés*\n",
    "\n",
    "As métricas de viés para classificação estão relacionadas com a quantidade de acertos que o modelo é capaz de relizar para uma determinada base de dados. Geralmente são representadas em frações, de forma a normalizar os valores.\n",
    "\n",
    "1. **Acurácia (Accuracy)**:\n",
    "   - Mede a proporção de exemplos classificados corretamente em relação ao total de exemplos. A fórmula é: `Acurácia = (TP + TN) / (TP + TN + FP + FN)`, onde TP são verdadeiros positivos, TN são verdadeiros negativos, FP são falsos positivos e FN são falsos negativos.\n",
    "\n",
    "2. **Precisão (Precision)**:\n",
    "   - Mede a proporção de exemplos classificados como positivos que são realmente positivos. A fórmula é: `Precisão = TP / (TP + FP)`, onde TP são verdadeiros positivos e FP são falsos positivos.\n",
    "\n",
    "3. **Recall (Sensibilidade ou Revocação)**:\n",
    "   - Mede a proporção de exemplos positivos que foram corretamente classificados como positivos. A fórmula é: `Recall = TP / (TP + FN)`, onde TP são verdadeiros positivos e FN são falsos negativos.\n",
    "\n",
    "4. **F1-Score**:\n",
    "   - O F1-Score é a média harmônica da precisão e do recall. A fórmula é: `F1-Score = 2 * (Precision * Recall) / (Precision + Recall)`.\n",
    "\n",
    "5. **Matriz de Confusão**:\n",
    "   - A matriz de confusão é uma tabela que mostra o número de verdadeiros positivos, falsos positivos, verdadeiros negativos e falsos negativos."
   ]
  },
  {
   "cell_type": "markdown",
   "metadata": {
    "id": "Up7QDrjDAH5Z"
   },
   "source": [
    "### *3.3 - Métricas de Variância*\n",
    "\n",
    "As métricas de variância estão relacionadas à sensibilidade do modelo em modificar as métricas de desempenho conforme a mudança do limiar de decisão. As mais conhecidas são:\n",
    "\n",
    "1. **AUC-ROC (Área sob a Curva da Característica de Operação do Receptor)**: A AUC-ROC mede a capacidade do modelo de distinguir entre classes. É uma área sob a curva ROC, que representa a taxa de verdadeiros positivos em relação à taxa de falsos positivos para diferentes limiares de classificação.\n",
    "\n",
    "2. **Curva Precision-Recall:** *A* curva Precision-Recall representa a relação entre precisão e recall para diferentes limiares de classificação."
   ]
  },
  {
   "cell_type": "markdown",
   "metadata": {
    "id": "fcRkkmpSBoAd"
   },
   "source": [
    "## **4. Introdução à Regressão Logística**\n",
    "\n",
    "A regressão logística é um algoritmo de aprendizado supervisionado amplamente utilizado para problemas de classificação, em que o objetivo é prever a probabilidade de um exemplo de dados pertencer a uma classe específica. Apesar de seu nome, a regressão logística é usada para tarefas de classificação, não de regressão.\n",
    "\n",
    "Aqui estão alguns conceitos-chave relacionados à regressão logística:\n",
    "\n",
    "1. **Variável Dependente Binária**: A regressão logística é usada quando a variável dependente (ou alvo) é binária, o que significa que existem apenas duas classes possíveis, como \"sim\" ou \"não\", \"fraude\" ou \"não fraude\".\n",
    "\n",
    "2. **Modelo Logit**: A regressão logística cria um modelo logit, que é a transformação logarítmica da razão das probabilidades de um exemplo pertencer a uma classe em relação à outra. O modelo logit é uma função linear das características (atributos) do exemplo.\n",
    "\n",
    "3. **Função Sigmoide**: A função sigmoide (também chamada de função logística) é usada para transformar o resultado da regressão linear em uma probabilidade. A função sigmoide gera valores entre 0 e 1, representando a probabilidade de pertencer à classe positiva.\n",
    "\n",
    "4. **Coeficientes e Intercepto**: Na regressão logística, são estimados coeficientes e um intercepto que definem a reta (ou hiperplano) que melhor separa as duas classes no espaço de características. Esses coeficientes são ajustados durante o treinamento do modelo.\n",
    "\n",
    "5. **Limiar de Decisão**: Um limiar (threshold) é usado para converter a probabilidade contínua em uma decisão de classificação binária. Por exemplo, se a probabilidade for maior que 0,5, o exemplo pode ser classificado como \"sim\"; caso contrário, é classificado como \"não\".\n",
    "\n",
    "6. **Aplicações**: A regressão logística é usada em diversas aplicações, incluindo previsão de churn (taxa de cancelamento) em empresas, diagnóstico médico, análise de sentimentos em texto e muito mais.\n",
    "\n",
    "A regressão logística é uma técnica poderosa para problemas de classificação binária e pode ser estendida para problemas de classificação multiclasse. Ela é especialmente útil quando você deseja entender a probabilidade associada a cada classe e interpretar os efeitos das características na decisão de classificação."
   ]
  }
 ],
 "metadata": {
  "colab": {
   "authorship_tag": "ABX9TyMb9HWAOKaXP14wUKfRa947",
   "provenance": []
  },
  "kernelspec": {
   "display_name": "Python 3",
   "name": "python3"
  },
  "language_info": {
   "name": "python"
  }
 },
 "nbformat": 4,
 "nbformat_minor": 0
}
